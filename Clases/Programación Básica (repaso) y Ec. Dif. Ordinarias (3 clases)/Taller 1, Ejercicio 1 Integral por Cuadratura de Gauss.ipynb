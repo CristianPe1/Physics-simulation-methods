{
  "nbformat": 4,
  "nbformat_minor": 0,
  "metadata": {
    "colab": {
      "provenance": []
    },
    "kernelspec": {
      "name": "python3",
      "display_name": "Python 3"
    },
    "language_info": {
      "name": "python"
    }
  },
  "cells": [
    {
      "cell_type": "code",
      "source": [
        "!pip install cython"
      ],
      "metadata": {
        "colab": {
          "base_uri": "https://localhost:8080/"
        },
        "id": "ElI7zjc3k9xo",
        "outputId": "188e4dad-58ce-4b36-a81f-bafc78dbbb56"
      },
      "execution_count": null,
      "outputs": [
        {
          "output_type": "stream",
          "name": "stdout",
          "text": [
            "Requirement already satisfied: cython in /usr/local/lib/python3.10/dist-packages (3.0.8)\n"
          ]
        }
      ]
    },
    {
      "cell_type": "code",
      "source": [
        "%load_ext Cython"
      ],
      "metadata": {
        "id": "zcZ-bzx4k_dY"
      },
      "execution_count": null,
      "outputs": []
    },
    {
      "cell_type": "code",
      "execution_count": null,
      "metadata": {
        "colab": {
          "base_uri": "https://localhost:8080/"
        },
        "id": "Uq8Mi5-vjnXK",
        "outputId": "74584cdf-ae6e-46c6-a026-6d2fa07dc561"
      },
      "outputs": [
        {
          "output_type": "stream",
          "name": "stderr",
          "text": [
            "\n",
            "Error compiling Cython file:\n",
            "------------------------------------------------------------\n",
            "...\n",
            "// Grafica de la recta\n",
            "^\n",
            "------------------------------------------------------------\n",
            "\n",
            "/root/.cache/ipython/cython/_cython_magic_7124475fbd714f9a16ad9418a479440d90425e3d.pyx:1:0: Expected an identifier or literal\n"
          ]
        }
      ],
      "source": [
        "%%cython\n",
        "// Grafica de la recta\n",
        "// Grafica de la funcion seno\n",
        "#include <graphics.h>\n",
        "#include <math.h>\n",
        "#include <conio.h>\n",
        "#include <iostream>\n",
        "using namespace std;\n",
        "const int ANCHO = 720, ALTO = 720;\n",
        "\n",
        "//Variables\n",
        "float _A, _B, _C;\n",
        "/*****************************************************************************************************************************/\n",
        "void dibujarLinea( int moverX, int moverY, int dibujarX, int dibujarY, int color, int textoX, int textoY, char *nombre ) {\n",
        "    moveto   ( moverX, moverY );\n",
        "    setcolor ( color );\n",
        "    lineto   ( dibujarX, dibujarY );\n",
        "    outtextxy( textoX, textoY, nombre );\n",
        "}\n",
        "/*****************************************************************************************************************************/\n",
        "void dibujarRecta ( float A, float B, float C ){\n",
        "\tfloat x, y;\n",
        "\tfor ( x = -360; x <= 360; x += 0.01 ) {\n",
        "\t\ty = ( - C - ( A * x ) ) / B;\n",
        "\t\tputpixel( 360 + x , 360 - y , YELLOW );\n",
        "\t}\n",
        "}\n",
        "/*****************************************************************************************************************************/\n",
        "void pintarPlano ( ) {\n",
        "\t//Inicia la ventana\n",
        "\tinitwindow( ANCHO, ALTO );\n",
        "\n",
        "\t//Pinta los ejes en la ventana\n",
        "    dibujarLinea( 0, ALTO / 2, ANCHO, ALTO / 2, WHITE, ANCHO - 20, ALTO / 2 + 10, \"X\" );\n",
        "    dibujarLinea( ANCHO / 2, 0, ANCHO / 2, ALTO, WHITE, ANCHO / 2 + 10, 0, \"Y\" );\n",
        "}\n",
        "/*****************************************************************************************************************************/\n",
        "int main() {\n",
        "\tcout << \" Grafica de la Recta\" << endl;\n",
        "    cout << \" Formula Ax + By + C = 0 \" << endl;\n",
        "\tcout << \" Ingrese A: \";\n",
        "\tcin  >> _A;\n",
        "\tcout << \" Ingrese B: \";\n",
        "\tcin  >> _B;\n",
        "\tcout << \" Ingrese C: \";\n",
        "\tcin  >> _C;\n",
        "\tpintarPlano();\n",
        "\tdibujarRecta( _A, _B, _C );\n",
        "\tgetch();\n",
        "\tclosegraph();\n",
        "}"
      ]
    },
    {
      "cell_type": "code",
      "source": [
        "%%writefile recta\n",
        "\n",
        "// Grafica de la recta\n",
        "// Grafica de la funcion seno\n",
        "#include <graphics.h>\n",
        "#include <math.h>\n",
        "#include <conio.h>\n",
        "#include <iostream>\n",
        "using namespace std;\n",
        "const int ANCHO = 720, ALTO = 720;\n",
        "\n",
        "//Variables\n",
        "float _A, _B, _C;\n",
        "/*****************************************************************************************************************************/\n",
        "void dibujarLinea( int moverX, int moverY, int dibujarX, int dibujarY, int color, int textoX, int textoY, char *nombre ) {\n",
        "    moveto   ( moverX, moverY );\n",
        "    setcolor ( color );\n",
        "    lineto   ( dibujarX, dibujarY );\n",
        "    outtextxy( textoX, textoY, nombre );\n",
        "}\n",
        "/*****************************************************************************************************************************/\n",
        "void dibujarRecta ( float A, float B, float C ){\n",
        "\tfloat x, y;\n",
        "\tfor ( x = -360; x <= 360; x += 0.01 ) {\n",
        "\t\ty = ( - C - ( A * x ) ) / B;\n",
        "\t\tputpixel( 360 + x , 360 - y , YELLOW );\n",
        "\t}\n",
        "}\n",
        "/*****************************************************************************************************************************/\n",
        "void pintarPlano ( ) {\n",
        "\t//Inicia la ventana\n",
        "\tinitwindow( ANCHO, ALTO );\n",
        "\n",
        "\t//Pinta los ejes en la ventana\n",
        "    dibujarLinea( 0, ALTO / 2, ANCHO, ALTO / 2, WHITE, ANCHO - 20, ALTO / 2 + 10, \"X\" );\n",
        "    dibujarLinea( ANCHO / 2, 0, ANCHO / 2, ALTO, WHITE, ANCHO / 2 + 10, 0, \"Y\" );\n",
        "}\n",
        "/*****************************************************************************************************************************/\n",
        "int main() {\n",
        "\tcout << \" Grafica de la Recta\" << endl;\n",
        "    cout << \" Formula Ax + By + C = 0 \" << endl;\n",
        "\tcout << \" Ingrese A: \";\n",
        "\tcin  >> _A;\n",
        "\tcout << \" Ingrese B: \";\n",
        "\tcin  >> _B;\n",
        "\tcout << \" Ingrese C: \";\n",
        "\tcin  >> _C;\n",
        "\tpintarPlano();\n",
        "\tdibujarRecta( _A, _B, _C );\n",
        "\tgetch();\n",
        "\tclosegraph();\n",
        "}\n",
        "\n"
      ],
      "metadata": {
        "colab": {
          "base_uri": "https://localhost:8080/"
        },
        "id": "3uZUB6-2lZL-",
        "outputId": "3c370aaf-82b0-4dae-c6df-39e015fd2ad6"
      },
      "execution_count": null,
      "outputs": [
        {
          "output_type": "stream",
          "name": "stdout",
          "text": [
            "Writing recta\n"
          ]
        }
      ]
    },
    {
      "cell_type": "code",
      "source": [
        "%%shell\n",
        "\n",
        "g++ recta"
      ],
      "metadata": {
        "colab": {
          "base_uri": "https://localhost:8080/",
          "height": 407
        },
        "id": "f2yplFIOjoOq",
        "outputId": "832a008e-b9a8-47a8-aff6-b91e3f53459b"
      },
      "execution_count": null,
      "outputs": [
        {
          "output_type": "stream",
          "name": "stdout",
          "text": [
            "/usr/bin/ld:recta: file format not recognized; treating as linker script\n",
            "/usr/bin/ld:recta:2: syntax error\n",
            "collect2: error: ld returned 1 exit status\n"
          ]
        },
        {
          "output_type": "error",
          "ename": "CalledProcessError",
          "evalue": "Command '\ng++ recta\n' returned non-zero exit status 1.",
          "traceback": [
            "\u001b[0;31m---------------------------------------------------------------------------\u001b[0m",
            "\u001b[0;31mCalledProcessError\u001b[0m                        Traceback (most recent call last)",
            "\u001b[0;32m<ipython-input-6-fb9557159ab4>\u001b[0m in \u001b[0;36m<cell line: 1>\u001b[0;34m()\u001b[0m\n\u001b[0;32m----> 1\u001b[0;31m \u001b[0mget_ipython\u001b[0m\u001b[0;34m(\u001b[0m\u001b[0;34m)\u001b[0m\u001b[0;34m.\u001b[0m\u001b[0mrun_cell_magic\u001b[0m\u001b[0;34m(\u001b[0m\u001b[0;34m'shell'\u001b[0m\u001b[0;34m,\u001b[0m \u001b[0;34m''\u001b[0m\u001b[0;34m,\u001b[0m \u001b[0;34m'\\ng++ recta\\n'\u001b[0m\u001b[0;34m)\u001b[0m\u001b[0;34m\u001b[0m\u001b[0;34m\u001b[0m\u001b[0m\n\u001b[0m",
            "\u001b[0;32m/usr/local/lib/python3.10/dist-packages/google/colab/_shell.py\u001b[0m in \u001b[0;36mrun_cell_magic\u001b[0;34m(self, magic_name, line, cell)\u001b[0m\n\u001b[1;32m    332\u001b[0m     \u001b[0;32mif\u001b[0m \u001b[0mline\u001b[0m \u001b[0;32mand\u001b[0m \u001b[0;32mnot\u001b[0m \u001b[0mcell\u001b[0m\u001b[0;34m:\u001b[0m\u001b[0;34m\u001b[0m\u001b[0;34m\u001b[0m\u001b[0m\n\u001b[1;32m    333\u001b[0m       \u001b[0mcell\u001b[0m \u001b[0;34m=\u001b[0m \u001b[0;34m' '\u001b[0m\u001b[0;34m\u001b[0m\u001b[0;34m\u001b[0m\u001b[0m\n\u001b[0;32m--> 334\u001b[0;31m     \u001b[0;32mreturn\u001b[0m \u001b[0msuper\u001b[0m\u001b[0;34m(\u001b[0m\u001b[0;34m)\u001b[0m\u001b[0;34m.\u001b[0m\u001b[0mrun_cell_magic\u001b[0m\u001b[0;34m(\u001b[0m\u001b[0mmagic_name\u001b[0m\u001b[0;34m,\u001b[0m \u001b[0mline\u001b[0m\u001b[0;34m,\u001b[0m \u001b[0mcell\u001b[0m\u001b[0;34m)\u001b[0m\u001b[0;34m\u001b[0m\u001b[0;34m\u001b[0m\u001b[0m\n\u001b[0m\u001b[1;32m    335\u001b[0m \u001b[0;34m\u001b[0m\u001b[0m\n\u001b[1;32m    336\u001b[0m \u001b[0;34m\u001b[0m\u001b[0m\n",
            "\u001b[0;32m/usr/local/lib/python3.10/dist-packages/IPython/core/interactiveshell.py\u001b[0m in \u001b[0;36mrun_cell_magic\u001b[0;34m(self, magic_name, line, cell)\u001b[0m\n\u001b[1;32m   2471\u001b[0m             \u001b[0;32mwith\u001b[0m \u001b[0mself\u001b[0m\u001b[0;34m.\u001b[0m\u001b[0mbuiltin_trap\u001b[0m\u001b[0;34m:\u001b[0m\u001b[0;34m\u001b[0m\u001b[0;34m\u001b[0m\u001b[0m\n\u001b[1;32m   2472\u001b[0m                 \u001b[0margs\u001b[0m \u001b[0;34m=\u001b[0m \u001b[0;34m(\u001b[0m\u001b[0mmagic_arg_s\u001b[0m\u001b[0;34m,\u001b[0m \u001b[0mcell\u001b[0m\u001b[0;34m)\u001b[0m\u001b[0;34m\u001b[0m\u001b[0;34m\u001b[0m\u001b[0m\n\u001b[0;32m-> 2473\u001b[0;31m                 \u001b[0mresult\u001b[0m \u001b[0;34m=\u001b[0m \u001b[0mfn\u001b[0m\u001b[0;34m(\u001b[0m\u001b[0;34m*\u001b[0m\u001b[0margs\u001b[0m\u001b[0;34m,\u001b[0m \u001b[0;34m**\u001b[0m\u001b[0mkwargs\u001b[0m\u001b[0;34m)\u001b[0m\u001b[0;34m\u001b[0m\u001b[0;34m\u001b[0m\u001b[0m\n\u001b[0m\u001b[1;32m   2474\u001b[0m             \u001b[0;32mreturn\u001b[0m \u001b[0mresult\u001b[0m\u001b[0;34m\u001b[0m\u001b[0;34m\u001b[0m\u001b[0m\n\u001b[1;32m   2475\u001b[0m \u001b[0;34m\u001b[0m\u001b[0m\n",
            "\u001b[0;32m/usr/local/lib/python3.10/dist-packages/google/colab/_system_commands.py\u001b[0m in \u001b[0;36m_shell_cell_magic\u001b[0;34m(args, cmd)\u001b[0m\n\u001b[1;32m    110\u001b[0m   \u001b[0mresult\u001b[0m \u001b[0;34m=\u001b[0m \u001b[0m_run_command\u001b[0m\u001b[0;34m(\u001b[0m\u001b[0mcmd\u001b[0m\u001b[0;34m,\u001b[0m \u001b[0mclear_streamed_output\u001b[0m\u001b[0;34m=\u001b[0m\u001b[0;32mFalse\u001b[0m\u001b[0;34m)\u001b[0m\u001b[0;34m\u001b[0m\u001b[0;34m\u001b[0m\u001b[0m\n\u001b[1;32m    111\u001b[0m   \u001b[0;32mif\u001b[0m \u001b[0;32mnot\u001b[0m \u001b[0mparsed_args\u001b[0m\u001b[0;34m.\u001b[0m\u001b[0mignore_errors\u001b[0m\u001b[0;34m:\u001b[0m\u001b[0;34m\u001b[0m\u001b[0;34m\u001b[0m\u001b[0m\n\u001b[0;32m--> 112\u001b[0;31m     \u001b[0mresult\u001b[0m\u001b[0;34m.\u001b[0m\u001b[0mcheck_returncode\u001b[0m\u001b[0;34m(\u001b[0m\u001b[0;34m)\u001b[0m\u001b[0;34m\u001b[0m\u001b[0;34m\u001b[0m\u001b[0m\n\u001b[0m\u001b[1;32m    113\u001b[0m   \u001b[0;32mreturn\u001b[0m \u001b[0mresult\u001b[0m\u001b[0;34m\u001b[0m\u001b[0;34m\u001b[0m\u001b[0m\n\u001b[1;32m    114\u001b[0m \u001b[0;34m\u001b[0m\u001b[0m\n",
            "\u001b[0;32m/usr/local/lib/python3.10/dist-packages/google/colab/_system_commands.py\u001b[0m in \u001b[0;36mcheck_returncode\u001b[0;34m(self)\u001b[0m\n\u001b[1;32m    135\u001b[0m   \u001b[0;32mdef\u001b[0m \u001b[0mcheck_returncode\u001b[0m\u001b[0;34m(\u001b[0m\u001b[0mself\u001b[0m\u001b[0;34m)\u001b[0m\u001b[0;34m:\u001b[0m\u001b[0;34m\u001b[0m\u001b[0;34m\u001b[0m\u001b[0m\n\u001b[1;32m    136\u001b[0m     \u001b[0;32mif\u001b[0m \u001b[0mself\u001b[0m\u001b[0;34m.\u001b[0m\u001b[0mreturncode\u001b[0m\u001b[0;34m:\u001b[0m\u001b[0;34m\u001b[0m\u001b[0;34m\u001b[0m\u001b[0m\n\u001b[0;32m--> 137\u001b[0;31m       raise subprocess.CalledProcessError(\n\u001b[0m\u001b[1;32m    138\u001b[0m           \u001b[0mreturncode\u001b[0m\u001b[0;34m=\u001b[0m\u001b[0mself\u001b[0m\u001b[0;34m.\u001b[0m\u001b[0mreturncode\u001b[0m\u001b[0;34m,\u001b[0m \u001b[0mcmd\u001b[0m\u001b[0;34m=\u001b[0m\u001b[0mself\u001b[0m\u001b[0;34m.\u001b[0m\u001b[0margs\u001b[0m\u001b[0;34m,\u001b[0m \u001b[0moutput\u001b[0m\u001b[0;34m=\u001b[0m\u001b[0mself\u001b[0m\u001b[0;34m.\u001b[0m\u001b[0moutput\u001b[0m\u001b[0;34m\u001b[0m\u001b[0;34m\u001b[0m\u001b[0m\n\u001b[1;32m    139\u001b[0m       )\n",
            "\u001b[0;31mCalledProcessError\u001b[0m: Command '\ng++ recta\n' returned non-zero exit status 1."
          ]
        }
      ]
    },
    {
      "cell_type": "code",
      "source": [
        "%%writefile hola_mundo.cpp\n",
        "\n",
        "#include<iostream> // Esta libreria nos permite mostrar informacion\n",
        "#include<cmath>    // Esta libreria nos permite usar funciones en C++\n",
        "using namespace std;\n",
        "\n",
        "int main() {\n",
        "    float x;\n",
        "    for ( x = 0.1; x <= 10; x += 1 )\n",
        "    cout << 5.0/3.0 + x << endl;\n",
        "    return 0;\n",
        "}"
      ],
      "metadata": {
        "colab": {
          "base_uri": "https://localhost:8080/"
        },
        "id": "GAz1TS0KlpW4",
        "outputId": "aba02a32-f2ea-424e-a3f3-7d34dd99e143"
      },
      "execution_count": null,
      "outputs": [
        {
          "output_type": "stream",
          "name": "stdout",
          "text": [
            "Writing hola_mundo.cpp\n"
          ]
        }
      ]
    },
    {
      "cell_type": "code",
      "source": [
        "%%shell\n",
        "g++ hola_mundo.cpp\n",
        "./a.out\n",
        "./a.out > data.dat"
      ],
      "metadata": {
        "colab": {
          "base_uri": "https://localhost:8080/"
        },
        "id": "4jd0fKepmwZq",
        "outputId": "794a335c-eab0-4a1c-d834-659083aa6246"
      },
      "execution_count": null,
      "outputs": [
        {
          "output_type": "stream",
          "name": "stdout",
          "text": [
            "1.76667\n",
            "2.76667\n",
            "3.76667\n",
            "4.76667\n",
            "5.76667\n",
            "6.76667\n",
            "7.76667\n",
            "8.76667\n",
            "9.76667\n",
            "10.7667\n"
          ]
        },
        {
          "output_type": "execute_result",
          "data": {
            "text/plain": []
          },
          "metadata": {},
          "execution_count": 8
        }
      ]
    },
    {
      "cell_type": "code",
      "source": [
        "%%writefile biseccion.cpp\n",
        "#include<stdio.h>\n",
        "#include<cmath>\n",
        "#include <iostream>\n",
        "\n",
        "using namespace std;\n",
        "\n",
        "float f (float x){\n",
        "\n",
        "        return  exp(x)-pow(x,3)+3*pow(x,2)-2*x-3;\n",
        "\n",
        "\t};\n",
        "\n",
        "\n",
        "/**\n",
        "a: límite inferior del intervalo\n",
        "b: límite superior del intervalo\n",
        "e: exactitud del valor\n",
        "**/\n",
        "float biseccion(float a, float b,float e){\n",
        "\n",
        "\n",
        "\n",
        "\tfloat c;\n",
        "\n",
        "\tif(f(a)*f(b)==0){\n",
        "\n",
        "\t\tif(f(a)==0){\n",
        "\n",
        "\t\t\treturn a;\n",
        "\n",
        "\t\t}\n",
        "\n",
        "\t\tif(f(b)==0){\n",
        "\n",
        "\t\t\treturn b;\n",
        "\n",
        "\t\t}\n",
        "\n",
        "\t}\n",
        "\n",
        "\tif(f(a)*f(b)>0){\n",
        "\n",
        "\t\treturn -1;\n",
        "\n",
        "\t}\n",
        "\n",
        "\n",
        "\telse{\n",
        "\n",
        "\n",
        "\t\tfor(int i = 0; abs(f(c))<= e; i++){\n",
        "\n",
        "\n",
        "\t\t\tc =(a+b)/2;\n",
        "\n",
        "\t\t\tif (f(a)*f(c)<0){\n",
        "\n",
        "\t\t\t\tb=c;\n",
        "\n",
        "\t        }\n",
        "\n",
        "\n",
        "\t\t    if (f(c)*f(b)<0){\n",
        "\n",
        "\t\t        a=c;\n",
        "\n",
        "\t    \t}\n",
        "\n",
        "\t    \tif(f(c)==0){\n",
        "\n",
        "\t    \t\tbreak;\n",
        "\n",
        "\t\t\t}\n",
        "\n",
        "\n",
        "\t\t}\n",
        "\n",
        "\t\treturn c;\n",
        "\n",
        "\t}\n",
        "\n",
        "}\n",
        "\n",
        "\n",
        "int main (int argc, char *argv[]) {\n",
        "\n",
        "\t     cout<<biseccion(0,2,0.0000001);//retorna la raiz\n",
        "\n",
        "    return 0;\n",
        "\n",
        "}\n",
        "\n"
      ],
      "metadata": {
        "colab": {
          "base_uri": "https://localhost:8080/"
        },
        "id": "Jb17QNlkvxC5",
        "outputId": "0f33c5b6-ad96-466f-811d-82c7a73d1fcd"
      },
      "execution_count": null,
      "outputs": [
        {
          "output_type": "stream",
          "name": "stdout",
          "text": [
            "Writing biseccion.cpp\n"
          ]
        }
      ]
    },
    {
      "cell_type": "code",
      "source": [
        "%%shell\n",
        "g++ biseccion.cpp\n",
        "./a.out"
      ],
      "metadata": {
        "colab": {
          "base_uri": "https://localhost:8080/"
        },
        "id": "gy15s52-zyHw",
        "outputId": "7cc3d083-9258-4b24-82d8-ee8e8902d48c"
      },
      "execution_count": null,
      "outputs": [
        {
          "output_type": "stream",
          "name": "stdout",
          "text": [
            "0"
          ]
        },
        {
          "output_type": "execute_result",
          "data": {
            "text/plain": []
          },
          "metadata": {},
          "execution_count": 11
        }
      ]
    },
    {
      "cell_type": "code",
      "source": [
        "%%writefile biseccion.cpp#include <iostream>\n",
        "#include <cmath>\n",
        "\n",
        "using namespace std;\n",
        "\n",
        "double funcion(double x) {\n",
        "    // La función para la cual buscamos la raíz\n",
        "    return x * x - 16;\n",
        "}\n",
        "\n",
        "double metodoBiseccion(double a, double b, double tolerancia) {\n",
        "    double c; // Punto medio del intervalo\n",
        "    int iteraciones = 0;\n",
        "\n",
        "    // Verificar si hay cambio de signo en los extremos\n",
        "    if (funcion(a) * funcion(b) >= 0) {\n",
        "        cout << \"El método de la bisección no es aplicable en este intervalo.\" << endl;\n",
        "        return 0.0;\n",
        "    }\n",
        "\n",
        "    // Iterar hasta alcanzar la tolerancia deseada\n",
        "    do {\n",
        "        // Calcular el punto medio del intervalo\n",
        "        c = (a + b) / 2;\n",
        "\n",
        "        // Verificar el cambio de signo en el intervalo izquierdo o derecho\n",
        "        if (funcion(c) == 0.0) {\n",
        "            break;\n",
        "        } else if (funcion(c) * funcion(a) < 0) {\n",
        "            b = c;\n",
        "        } else {\n",
        "            a = c;\n",
        "        }\n",
        "\n",
        "        // Incrementar el contador de iteraciones\n",
        "        iteraciones++;\n",
        "\n",
        "    } while (fabs(funcion(c)) > tolerancia && iteraciones < 1000);\n",
        "\n",
        "    cout << \"Número de iteraciones: \" << iteraciones << endl;\n",
        "\n",
        "    return c;\n",
        "}\n",
        "\n",
        "int main() {\n",
        "    double a = 0.0;\n",
        "    double b = 5.0;\n",
        "    double tolerancia = 0.0001;\n",
        "\n",
        "    double raizAproximada = metodoBiseccion(a, b, tolerancia);\n",
        "\n",
        "    cout << \"Aproximación de la raíz: \" << raizAproximada << endl;\n",
        "\n",
        "    return 0;\n",
        "}\n",
        "\n"
      ],
      "metadata": {
        "id": "WUWlQ-eGz2zo"
      },
      "execution_count": null,
      "outputs": []
    },
    {
      "cell_type": "code",
      "source": [
        "%%shell\n",
        "g++ biseccion.cpp\n",
        "./a.out"
      ],
      "metadata": {
        "id": "qppqBZYf1ZRd"
      },
      "execution_count": null,
      "outputs": []
    },
    {
      "cell_type": "code",
      "source": [
        "!ls"
      ],
      "metadata": {
        "id": "4se1tIw41dH2"
      },
      "execution_count": null,
      "outputs": []
    },
    {
      "cell_type": "code",
      "source": [
        "%%writefile biseccion\n",
        "//Mi primer progama en C++\n",
        "#include<iostream>\n",
        "#include<cmath>\n",
        "using namespace std;\n",
        "\n",
        "cons double ERR=1e-6;\n",
        "\n",
        "double f(double x){\n",
        "    return sin(x)/x\n",
        "}\n",
        "\n",
        "int main(){\n",
        "    float a=2,b=4,m,fa,fm;\n",
        "\n",
        "    while(b-a>ERR){\n",
        "    m=(a+b)/2; fm=f(m);\n",
        "\n",
        "    if(fa*fm>0)\n",
        "        {a=m; fa=fm;}\n",
        "    else\n",
        "    b=m;\n",
        "    }\n",
        "\n",
        "    cout<<\"El cero es x=\"<<(a+b)/2<<endl\n",
        "\n",
        "    return 0;\n",
        "}"
      ],
      "metadata": {
        "id": "mrQrPILp2CLq"
      },
      "execution_count": null,
      "outputs": []
    },
    {
      "cell_type": "code",
      "source": [
        "%%shell\n",
        "g++ biseccion.cpp\n",
        "./a.out"
      ],
      "metadata": {
        "id": "M-fQ4b2L3BAu"
      },
      "execution_count": null,
      "outputs": []
    },
    {
      "cell_type": "code",
      "source": [
        "%%writefile"
      ],
      "metadata": {
        "id": "0DghCTd53zoZ"
      },
      "execution_count": null,
      "outputs": []
    }
  ]
}