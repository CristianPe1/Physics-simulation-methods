{
  "cells": [
    {
      "cell_type": "markdown",
      "metadata": {
        "id": "l_j6n0pdo0Ce"
      },
      "source": [
        "Librerías y variables globales"
      ]
    },
    {
      "cell_type": "code",
      "execution_count": null,
      "metadata": {
        "id": "beZFr8WWjb6M"
      },
      "outputs": [],
      "source": [
        "%matplotlib inline\n",
        "import numpy as np\n",
        "import matplotlib.pyplot as plt\n",
        "import matplotlib.animation as animation\n",
        "import scipy as sci"
      ]
    },
    {
      "cell_type": "markdown",
      "metadata": {
        "id": "PH2m1sElo37d"
      },
      "source": [
        "Funciones globales"
      ]
    },
    {
      "cell_type": "code",
      "execution_count": null,
      "metadata": {
        "id": "lXn8hCS80Ssg"
      },
      "outputs": [],
      "source": [
        "def f(x):\n",
        "  return np.sin(x)"
      ]
    },
    {
      "cell_type": "code",
      "execution_count": null,
      "metadata": {
        "id": "LQShygOj0q1t"
      },
      "outputs": [],
      "source": [
        "def CuadraturaDeGaussEnUnIntervalo(a,b):\n",
        "  Medioh=(b-a)/2\n",
        "  xprom=(b+a)/2\n",
        "  Orden_n=3\n",
        "  #Ceros del polinomio de Legendre de orden 3, p_3(x)\n",
        "  xi=np.zeros(Orden_n)\n",
        "  xi[0]=-np.sqrt(3/5)\n",
        "  xi[1]=0\n",
        "  xi[2]=np.sqrt(3/5)\n",
        "  #Pesos de esos mismos puntos, calculados con la interpolacion de Lagrange para la fucion de peso \\omega(x)=1\n",
        "  w=np.zeros(Orden_n)\n",
        "  w[0]=5/9\n",
        "  w[1]=8/9\n",
        "  w[2]=5/9\n",
        "  #aproximar la integral por una sumatoria\n",
        "  suma=0\n",
        "  for i in range(Orden_n):\n",
        "    #Trasladar los puntos xi del intervalo [-1,1] al intervalo [a,b]\n",
        "    x=Medioh*xi[i]+xprom\n",
        "    suma+=w[i]*f(x)\n",
        "  return Medioh*suma"
      ]
    },
    {
      "cell_type": "code",
      "execution_count": null,
      "metadata": {
        "id": "sxJC3zqn-hqC"
      },
      "outputs": [],
      "source": [
        "def CuadraturaDeGaussEn_n_Intervalos(a,b,nsteps):\n",
        "  h=(b-a)/nsteps\n",
        "  suma=0\n",
        "  for i in range(nsteps):\n",
        "    ak=a+i*h\n",
        "    suma+=CuadraturaDeGaussEnUnIntervalo(ak,ak+h)\n",
        "  return suma"
      ]
    },
    {
      "cell_type": "markdown",
      "metadata": {
        "id": "436_v43W1_N8"
      },
      "source": [
        "Programa Principal"
      ]
    },
    {
      "cell_type": "code",
      "execution_count": null,
      "metadata": {
        "colab": {
          "base_uri": "https://localhost:8080/"
        },
        "id": "xHCffSRn2HaP",
        "outputId": "8a6e06f0-cc84-4bd2-c3d3-07aac4ec5c52"
      },
      "outputs": [
        {
          "name": "stdout",
          "output_type": "stream",
          "text": [
            "La integral da : 2.0000000009569714\n"
          ]
        }
      ],
      "source": [
        "a=0\n",
        "b=np.pi\n",
        "nsteps=10\n",
        "\n",
        "print(\"La integral da : \"+str(CuadraturaDeGaussEn_n_Intervalos(a,b,nsteps)))"
      ]
    }
  ],
  "metadata": {
    "colab": {
      "provenance": []
    },
    "kernelspec": {
      "display_name": "Python 3",
      "name": "python3"
    },
    "language_info": {
      "name": "python"
    }
  },
  "nbformat": 4,
  "nbformat_minor": 0
}
