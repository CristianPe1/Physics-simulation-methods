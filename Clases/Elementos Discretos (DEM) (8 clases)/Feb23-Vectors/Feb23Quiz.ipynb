{
  "cells": [
    {
      "cell_type": "code",
      "execution_count": 2,
      "metadata": {
        "id": "8XO3GiYtv0jR"
      },
      "outputs": [],
      "source": [
        "import numpy as np\n",
        "import pandas as pd\n",
        "import matplotlib.pyplot as plt\n",
        "import matplotlib.animation as animation\n",
        "import scipy as scy\n",
        "\n",
        "g=9.8\n"
      ]
    },
    {
      "cell_type": "code",
      "execution_count": 3,
      "metadata": {
        "id": "LJKQEGWAwMUW"
      },
      "outputs": [],
      "source": [
        "GM=1.0\n",
        "class Cuerpo:\n",
        "    def __init__(self,x0,y0,z0,Vx0,Vy0,Vz0,m0):\n",
        "        self.m = m0\n",
        "        self.r = np.array([x0,y0,z0])\n",
        "        self.V = np.array([Vx0,Vy0,Vz0])\n",
        "\n",
        "    def CalculeFuerza(self):\n",
        "        aux = -GM*self.m/np.linalg.norm(self.r)**3\n",
        "        self.F = aux*self.r\n",
        "    def Muevase(self,dt):\n",
        "        self.r = self.r + dt*self.V\n",
        "        self.V = self.V + (dt/self.m)*self.F"
      ]
    },
    {
      "cell_type": "code",
      "execution_count": 4,
      "metadata": {
        "id": "H2UqeYANwSMt"
      },
      "outputs": [],
      "source": [
        "#Condiciones Inicia;es\n",
        "Deltat=1e-3\n",
        "Nsteps=int(1e5)\n",
        "StepsPerFrame=int(1e2)\n",
        "Nframes=Nsteps//StepsPerFrame\n",
        "r0 =10"
      ]
    },
    {
      "cell_type": "code",
      "execution_count": 5,
      "metadata": {
        "id": "95r9I3e0wQxu"
      },
      "outputs": [],
      "source": [
        "r0=10\n",
        "omega=np.sqrt(GM/(r0**3))\n",
        "T=2*np.pi/omega\n",
        "V0=omega*r0\n",
        "\n",
        "xdata=np.zeros(Nframes)\n",
        "ydata=np.zeros(Nframes)\n",
        "Balon=Cuerpo(x0=r0,y0=0,z0=0,Vx0=0,Vy0=0.5*V0,Vz0=0,m0=0.453)\n",
        "\n",
        "for i in range(Nsteps):\n",
        "    t=i*Deltat\n",
        "    if(i%StepsPerFrame==0):\n",
        "        k = i//StepsPerFrame\n",
        "        xdata[k]=Balon.r[0]\n",
        "        ydata[k]=Balon.r[1]\n",
        "    Balon.CalculeFuerza()\n",
        "    Balon.Muevase(Deltat)"
      ]
    },
    {
      "cell_type": "code",
      "execution_count": 6,
      "metadata": {
        "colab": {
          "base_uri": "https://localhost:8080/",
          "height": 430
        },
        "id": "q4yoMZOcwUJn",
        "outputId": "3dfa6ee6-eeb8-47e3-e8d2-51d90ea7b5be"
      },
      "outputs": [
        {
          "data": {
            "image/png": "[encoded data removed]",
            "text/plain": [
              "<Figure size 640x480 with 1 Axes>"
            ]
          },
          "metadata": {},
          "output_type": "display_data"
        }
      ],
      "source": [
        "plt.plot(xdata,ydata,\"r--\")\n",
        "plt.show()"
      ]
    },
    {
      "cell_type": "code",
      "execution_count": 7,
      "metadata": {
        "colab": {
          "base_uri": "https://localhost:8080/",
          "height": 945
        },
        "id": "G66YKFoxwV0v",
        "outputId": "6b79a4e0-0437-4005-fbbe-da7414284e6d"
      },
      "outputs": [
        {
          "name": "stderr",
          "output_type": "stream",
          "text": [
            "C:\\Users\\cterr\\AppData\\Local\\Temp\\ipykernel_11916\\2393948447.py:14: MatplotlibDeprecationWarning: Setting data with a non sequence type is deprecated since 3.7 and will be remove two minor releases later\n",
            "  line.set_data(x, y)\n"
          ]
        }
      ],
      "source": [
        "fig = plt.figure()\n",
        "ax = plt.axes(xlim=(0,40), ylim=(-8,4.5))\n",
        "line, = ax.plot([], [],'o')\n",
        "def init():\n",
        "    line.set_data([], [])\n",
        "    return line,\n",
        "def animate(i):\n",
        "    x=np.zeros(Nframes)\n",
        "    y=np.zeros(Nframes)\n",
        "    if(i%StepsPerFrame==0):\n",
        "        k = i//StepsPerFrame\n",
        "        x = xdata[k]\n",
        "        y = ydata[k]\n",
        "    line.set_data(x, y)\n",
        "    return line,\n",
        "anim = animation.FuncAnimation(fig, animate, init_func=init,\n",
        "                               frames=Nsteps, interval=20, blit=False)\n",
        "anim.save('Planetas.gif', fps=30, writer='pillow')\n",
        "plt.show()"
      ]
    },
    {
      "cell_type": "markdown",
      "metadata": {
        "id": "1hC_yX53wl2a"
      },
      "source": [
        "#Codigo en C++"
      ]
    },
    {
      "cell_type": "code",
      "execution_count": 20,
      "metadata": {
        "id": "yIEtoxk5wobB"
      },
      "outputs": [],
      "source": [
        "def graficar(datos):\n",
        "\n",
        "    path = \"./\"+ datos + \".dat\"\n",
        "    data = pd.read_csv(path,sep=' ',names=['t','x1','x2'])\n",
        "\n",
        "    plt.plot(data['t'],data['x1'],label='x1')"
      ]
    },
    {
      "cell_type": "code",
      "execution_count": 36,
      "metadata": {
        "colab": {
          "base_uri": "https://localhost:8080/"
        },
        "id": "32_NZUMzwzTj",
        "outputId": "68d142de-b3c2-4279-8d89-1cd4517996c8"
      },
      "outputs": [
        {
          "name": "stdout",
          "output_type": "stream",
          "text": [
            "Overwriting UnPlaneta.cpp\n"
          ]
        }
      ],
      "source": [
        "%%writefile UnPlaneta.cpp\n",
        "\n",
        "\n",
        "#include <iostream>\n",
        "#include <cmath>\n",
        "#include \"vector.h\"\n",
        "using namespace std;\n",
        "\n",
        "const double GM=1.0;\n",
        "\n",
        "//Deaclaración de la clase\n",
        "class Cuerpo;\n",
        "\n",
        "//Deaclaración de la interfase\n",
        "class Cuerpo{\n",
        "private:\n",
        "  vector3D r,V,F; double m,R;\n",
        "public:\n",
        "  void Inicie(double x0,double y0,double z0,double Vx0,double Vy0,double Vz0,\n",
        "\t      double m0,double R0);\n",
        "  void CalculeFuerza(void);\n",
        "  void Muevase(double dt);\n",
        "  double Getx(void){return r.x();}; // Inline\n",
        "  double Gety(void){return r.y();}; // Inline\n",
        "};\n",
        "//Implementación de las funciones\n",
        "void Cuerpo::Inicie(double x0,double y0,double z0,double Vx0,double Vy0,double Vz0,\n",
        "\t      double m0,double R0){\n",
        "  r.load(x0,y0,z0); V.load(Vx0,Vy0,Vz0); m=m0; R=R0;\n",
        "}\n",
        "void Cuerpo::CalculeFuerza(void){\n",
        "  double aux = -GM * m / pow(r.norm(),3);\n",
        "  F= aux*r;\n",
        "}\n",
        "void Cuerpo::Muevase(double dt){\n",
        "  //Algoritmo de Euler\n",
        "  r+=V*dt;  V+=F*(dt/m);\n",
        "}\n",
        "\n",
        "//----------- Funciones Globales -----------\n",
        "\n",
        "\n",
        "int main(){\n",
        "  vector3D r;\n",
        "  double GM = 1.0;\n",
        "  int Nsteps = 100000;  // Ajusta según sea necesario\n",
        "  double dt = 0.001;  // Suponiendo que T está definido\n",
        "  int StepsPerFrame = 1000;  // Ajusta según sea necesario\n",
        "  int Nframes = Nsteps / StepsPerFrame;\n",
        "  Cuerpo Planeta;\n",
        "\n",
        "  double r0=10;\n",
        "  double omega=sqrt(GM/pow(r0,3));\n",
        "  double T=2/omega;\n",
        "  double V0=omega*r0;\n",
        "\n",
        "  r.load(1,1,1);\n",
        "\n",
        "  //----------(x0,y0,z0,Vx0,Vy0,Vz0,m0 ,R0)\n",
        "  Planeta.Inicie(r0,0,0,0,0.5*V0,0,0.453,1);\n",
        "\n",
        "\n",
        "  for (int t = 0; t < Nsteps; t++) {\n",
        "\n",
        "        if (t % StepsPerFrame == 0) {\n",
        "            int k = t / StepsPerFrame;\n",
        "            cout<<Planeta.Getx()<<\" \"<<Planeta.Gety()<<endl;\n",
        "        }\n",
        "\n",
        "    Planeta.CalculeFuerza();\n",
        "    Planeta.Muevase(dt);\n",
        "\n",
        "  }\n",
        "  return 0;\n",
        "}\n"
      ]
    },
    {
      "cell_type": "code",
      "execution_count": 37,
      "metadata": {
        "colab": {
          "base_uri": "https://localhost:8080/"
        },
        "id": "kBMDNLCr8Kkj",
        "outputId": "befcede0-8870-428f-a35f-7475be04e660"
      },
      "outputs": [
        {
          "data": {
            "text/plain": []
          },
          "execution_count": 37,
          "metadata": {},
          "output_type": "execute_result"
        }
      ],
      "source": [
        "%%shell\n",
        "g++ UnPlaneta.cpp\n",
        "./a.out > datos.dat"
      ]
    },
    {
      "cell_type": "code",
      "execution_count": 38,
      "metadata": {
        "colab": {
          "base_uri": "https://localhost:8080/",
          "height": 430
        },
        "id": "DfIyLQgL8LMz",
        "outputId": "049a64bf-dda8-4d03-cf0a-be66dbf09972"
      },
      "outputs": [
        {
          "data": {
            "image/png": "[encoded data removed]",
            "text/plain": [
              "<Figure size 640x480 with 1 Axes>"
            ]
          },
          "metadata": {},
          "output_type": "display_data"
        }
      ],
      "source": [
        "graficar(\"datos\")"
      ]
    },
    {
      "cell_type": "code",
      "execution_count": null,
      "metadata": {
        "id": "3zwdzYHA8xQw"
      },
      "outputs": [],
      "source": []
    }
  ],
  "metadata": {
    "colab": {
      "provenance": []
    },
    "kernelspec": {
      "display_name": "Python 3",
      "name": "python3"
    },
    "language_info": {
      "codemirror_mode": {
        "name": "ipython",
        "version": 3
      },
      "file_extension": ".py",
      "mimetype": "text/x-python",
      "name": "python",
      "nbconvert_exporter": "python",
      "pygments_lexer": "ipython3",
      "version": "3.11.5"
    }
  },
  "nbformat": 4,
  "nbformat_minor": 0
}
