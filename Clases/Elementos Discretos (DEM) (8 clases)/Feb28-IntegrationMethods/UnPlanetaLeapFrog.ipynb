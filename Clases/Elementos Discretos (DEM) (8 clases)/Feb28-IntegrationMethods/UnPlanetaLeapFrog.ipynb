{
  "cells": [
    {
      "cell_type": "code",
      "execution_count": 2,
      "metadata": {
        "id": "prTjero3HoNq"
      },
      "outputs": [],
      "source": [
        "import numpy as np\n",
        "import matplotlib.pyplot as plt\n",
        "import matplotlib.animation as animation\n",
        "import scipy as scy"
      ]
    },
    {
      "cell_type": "code",
      "execution_count": 3,
      "metadata": {
        "id": "7bTdNpgVMv0B"
      },
      "outputs": [],
      "source": [
        "GM=1.0\n",
        "class Cuerpo:\n",
        "  def __init__(self,x0,y0,z0,Vx0,Vy0,Vz0,m0):\n",
        "    self.m=m0\n",
        "    self.r=np.array([x0,y0,z0])\n",
        "    self.rnew=np.array([x0,y0,z0])\n",
        "    self.V=np.array([Vx0,Vy0,Vz0])\n",
        "  \n",
        "  #Aqui no se esta calculando la fuerza, \n",
        "  #solo se esta calculando la aceleracion\n",
        "  def CalculeFuerza(self):\n",
        "    aux=-GM*self.m/np.linalg.norm(self.r)**3\n",
        "    self.F = aux*self.r\n",
        "      \n",
        "  def Arranque(self,dt):      \n",
        "    self.rold = self.r - dt*self.V + (dt**2/2)*(self.F/self.m)\n",
        "          \n",
        "  def Muevase(self,dt):\n",
        "    self.V = self.V + (dt/self.m)*(self.F/self.m)\n",
        "    self.r=self.r + dt*self.V\n",
        "      \n",
        "      "
      ]
    },
    {
      "cell_type": "code",
      "execution_count": 4,
      "metadata": {},
      "outputs": [],
      "source": [
        "#Condiciones Inicia;es\n",
        "dt=1e-3\n",
        "Nsteps=int(1e5)\n",
        "StepsPerFrame=int(1e0)\n",
        "Nframes=Nsteps//StepsPerFrame\n",
        "r0 =10\n"
      ]
    },
    {
      "cell_type": "code",
      "execution_count": 5,
      "metadata": {
        "id": "wuV-SJcxR5Ka"
      },
      "outputs": [],
      "source": [
        "r0=10\n",
        "omega=np.sqrt(GM/(r0**3))\n",
        "T=2*np.pi/omega\n",
        "V0=omega*r0\n",
        "\n",
        "xdata=np.zeros(Nframes)\n",
        "ydata=np.zeros(Nframes)\n",
        "Planeta=Cuerpo(x0=r0,y0=0,z0=0,Vx0=0,Vy0=0.5*V0,Vz0=0,m0=0.453)\n",
        "\n",
        "Planeta.CalculeFuerza()\n",
        "Planeta.Arranque(dt)\n",
        "\n",
        "\n",
        "for i in range(Nsteps):\n",
        "    t=i*dt\n",
        "    if(i%StepsPerFrame==0):\n",
        "        k = i//StepsPerFrame\n",
        "        xdata[k]=Planeta.r[0]\n",
        "        ydata[k]=Planeta.r[1]\n",
        "    Planeta.CalculeFuerza()\n",
        "    Planeta.Muevase(dt)"
      ]
    },
    {
      "cell_type": "code",
      "execution_count": 6,
      "metadata": {
        "colab": {
          "base_uri": "https://localhost:8080/",
          "height": 430
        },
        "id": "5xnBFpC0TSL-",
        "outputId": "d2c44428-da48-4461-d9d8-2ce4fb98b513"
      },
      "outputs": [
        {
          "data": {
            "image/png": "[encoded data removed]",
            "text/plain": [
              "<Figure size 640x480 with 1 Axes>"
            ]
          },
          "metadata": {},
          "output_type": "display_data"
        }
      ],
      "source": [
        "plt.plot(xdata,ydata)\n",
        "plt.show()"
      ]
    },
    {
      "cell_type": "code",
      "execution_count": null,
      "metadata": {},
      "outputs": [],
      "source": []
    }
  ],
  "metadata": {
    "colab": {
      "provenance": []
    },
    "kernelspec": {
      "display_name": "Python 3",
      "name": "python3"
    },
    "language_info": {
      "codemirror_mode": {
        "name": "ipython",
        "version": 3
      },
      "file_extension": ".py",
      "mimetype": "text/x-python",
      "name": "python",
      "nbconvert_exporter": "python",
      "pygments_lexer": "ipython3",
      "version": "3.11.5"
    }
  },
  "nbformat": 4,
  "nbformat_minor": 0
}
